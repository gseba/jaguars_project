{
 "cells": [
  {
   "cell_type": "code",
   "execution_count": 1,
   "metadata": {},
   "outputs": [],
   "source": [
    "import shopify\n",
    "from menu_key import menu_key, password\n",
    "import json\n",
    "import requests\n",
    "import io\n",
    "from io import StringIO\n",
    "import pandas as pd\n",
    "from pandas.io.json import json_normalize\n",
    "import numpy as np\n",
    "\n",
    "SHOP_NAME = \"menudesignshop\"\n",
    "\n",
    "#original test\n",
    "#shop_url = \"@menudesignshop.myshopify.com/admin\"\n",
    "#query_url = f\"https://{menu_key}:{password}{shop_url}/api\"\n",
    "#test_response = requests.get(query_url)\n",
    "#print(test_response)\n",
    "#test_json_response = requests.get(query_url+\"/2019-07/orders.json\") #changed the date to just 2019 and it doesnt work\n",
    "#test_json = test_json_response.json(encoding=\"utf-8\")\n",
    "#test_json\n",
    "\n",
    "\n",
    "\n",
    "\n"
   ]
  },
  {
   "cell_type": "code",
   "execution_count": 2,
   "metadata": {},
   "outputs": [],
   "source": [
    "# Get a file object with write permission.\n",
    "#file_object = open(\"test_json.json\", 'w')\n",
    "# Save data into the JSON file.\n",
    "#json_dump = json.dump(test_json, file_object, sort_keys = True, ensure_ascii=False, indent=4)\n"
   ]
  },
  {
   "cell_type": "code",
   "execution_count": 3,
   "metadata": {},
   "outputs": [],
   "source": [
    "#test_df = pd.DataFrame.from_dict(test_json, orient='columns', dtype=None)\n",
    "#test_df\n",
    "#stopped here"
   ]
  },
  {
   "cell_type": "code",
   "execution_count": 4,
   "metadata": {},
   "outputs": [],
   "source": [
    "#orders_df= pd.index(json_normalize(test_df))\n",
    "#orders_df"
   ]
  },
  {
   "cell_type": "code",
   "execution_count": 6,
   "metadata": {},
   "outputs": [],
   "source": [
    "#second method to calling customer data\n",
    "shop_url = \"https://{menu_key}:{password}@{SHOP_NAME}.myshopify.com/admin\"\n",
    "resource = shopify.ShopifyResource.set_site(shop_url)\n",
    "resource\n",
    "\n",
    "shop = shopify.Shop.current\n"
   ]
  },
  {
   "cell_type": "code",
   "execution_count": null,
   "metadata": {},
   "outputs": [],
   "source": []
  }
 ],
 "metadata": {
  "kernelspec": {
   "display_name": "Python 3",
   "language": "python",
   "name": "python3"
  },
  "language_info": {
   "codemirror_mode": {
    "name": "ipython",
    "version": 3
   },
   "file_extension": ".py",
   "mimetype": "text/x-python",
   "name": "python",
   "nbconvert_exporter": "python",
   "pygments_lexer": "ipython3",
   "version": "3.7.3"
  }
 },
 "nbformat": 4,
 "nbformat_minor": 2
}
