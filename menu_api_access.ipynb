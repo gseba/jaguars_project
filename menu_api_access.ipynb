{
 "cells": [
  {
   "cell_type": "code",
   "execution_count": 3,
   "metadata": {
    "code_folding": []
   },
   "outputs": [
    {
     "name": "stdout",
     "output_type": "stream",
     "text": [
      "<Response [200]>\n"
     ]
    }
   ],
   "source": [
    "# Import API Key\n",
    "from menu_key import menu_key, password\n",
    "from pprint import pprint\n",
    "import json\n",
    "import requests\n",
    "\n",
    "\n",
    "shop_url = \"@menudesignshop.myshopify.com/admin\"\n",
    "query_url = f\"https://{menu_key}:{password}{shop_url}/api\"\n",
    "\n",
    "test_response = requests.get(query_url)\n",
    "print(test_response)\n",
    "test_json_response = requests.get(query_url+\"/2019-07/orders.json\")\n",
    "test_json = test_json_response.json()\n",
    "# pprint(test_json)\n",
    "\n"
   ]
  },
  {
   "cell_type": "code",
   "execution_count": 4,
   "metadata": {},
   "outputs": [],
   "source": [
    "# test_json_pp = pprint(test_json)\n",
    "\n",
    "# Get a file object with write permission.\n",
    "file_object = open(\"test_json.json\", 'w')\n",
    "# Save data into the JSON file.\n",
    "json.dump(test_json, file_object, sort_keys = False, ensure_ascii=False, indent=4)"
   ]
  },
  {
   "cell_type": "code",
   "execution_count": null,
   "metadata": {},
   "outputs": [],
   "source": []
  }
 ],
 "metadata": {
  "kernelspec": {
   "display_name": "Python 3",
   "language": "python",
   "name": "python3"
  },
  "language_info": {
   "codemirror_mode": {
    "name": "ipython",
    "version": 3
   },
   "file_extension": ".py",
   "mimetype": "text/x-python",
   "name": "python",
   "nbconvert_exporter": "python",
   "pygments_lexer": "ipython3",
   "version": "3.6.9"
  }
 },
 "nbformat": 4,
 "nbformat_minor": 2
}
